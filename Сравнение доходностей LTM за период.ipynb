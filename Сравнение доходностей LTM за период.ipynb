{
 "cells": [
  {
   "cell_type": "code",
   "execution_count": 2,
   "id": "eef0dcb6-ec8a-485e-b96d-2f68afd71e82",
   "metadata": {},
   "outputs": [
    {
     "name": "stdout",
     "output_type": "stream",
     "text": [
      "Requirement already satisfied: psycopg2 in c:\\programdata\\anaconda3\\lib\\site-packages (2.9.10)\n",
      "Requirement already satisfied: pandas in c:\\programdata\\anaconda3\\lib\\site-packages (2.2.2)\n",
      "Requirement already satisfied: numpy>=1.26.0 in c:\\programdata\\anaconda3\\lib\\site-packages (from pandas) (1.26.4)\n",
      "Requirement already satisfied: python-dateutil>=2.8.2 in c:\\programdata\\anaconda3\\lib\\site-packages (from pandas) (2.9.0.post0)\n",
      "Requirement already satisfied: pytz>=2020.1 in c:\\programdata\\anaconda3\\lib\\site-packages (from pandas) (2024.1)\n",
      "Requirement already satisfied: tzdata>=2022.7 in c:\\programdata\\anaconda3\\lib\\site-packages (from pandas) (2023.3)\n",
      "Requirement already satisfied: six>=1.5 in c:\\programdata\\anaconda3\\lib\\site-packages (from python-dateutil>=2.8.2->pandas) (1.16.0)\n",
      "Requirement already satisfied: matplotlib in c:\\programdata\\anaconda3\\lib\\site-packages (3.9.2)\n",
      "Requirement already satisfied: contourpy>=1.0.1 in c:\\programdata\\anaconda3\\lib\\site-packages (from matplotlib) (1.2.0)\n",
      "Requirement already satisfied: cycler>=0.10 in c:\\programdata\\anaconda3\\lib\\site-packages (from matplotlib) (0.11.0)\n",
      "Requirement already satisfied: fonttools>=4.22.0 in c:\\programdata\\anaconda3\\lib\\site-packages (from matplotlib) (4.51.0)\n",
      "Requirement already satisfied: kiwisolver>=1.3.1 in c:\\programdata\\anaconda3\\lib\\site-packages (from matplotlib) (1.4.4)\n",
      "Requirement already satisfied: numpy>=1.23 in c:\\programdata\\anaconda3\\lib\\site-packages (from matplotlib) (1.26.4)\n",
      "Requirement already satisfied: packaging>=20.0 in c:\\programdata\\anaconda3\\lib\\site-packages (from matplotlib) (24.1)\n",
      "Requirement already satisfied: pillow>=8 in c:\\programdata\\anaconda3\\lib\\site-packages (from matplotlib) (10.4.0)\n",
      "Requirement already satisfied: pyparsing>=2.3.1 in c:\\programdata\\anaconda3\\lib\\site-packages (from matplotlib) (3.1.2)\n",
      "Requirement already satisfied: python-dateutil>=2.7 in c:\\programdata\\anaconda3\\lib\\site-packages (from matplotlib) (2.9.0.post0)\n",
      "Requirement already satisfied: six>=1.5 in c:\\programdata\\anaconda3\\lib\\site-packages (from python-dateutil>=2.7->matplotlib) (1.16.0)\n",
      "Requirement already satisfied: numpy in c:\\programdata\\anaconda3\\lib\\site-packages (1.26.4)\n"
     ]
    }
   ],
   "source": [
    "!pip install psycopg2\n",
    "!pip install pandas\n",
    "!pip install matplotlib\n",
    "!pip install numpy"
   ]
  },
  {
   "cell_type": "code",
   "execution_count": 3,
   "id": "d41703ba-fe26-4e2d-92b5-9a416bedb9bf",
   "metadata": {},
   "outputs": [],
   "source": [
    "import psycopg2 as ps\n",
    "import pandas as pd\n",
    "import matplotlib.pyplot as plt\n",
    "import numpy as np\n",
    "import config\n",
    "import data_loader"
   ]
  },
  {
   "cell_type": "code",
   "execution_count": 4,
   "id": "10a3c4a2-2c58-4c80-ba78-ca898a1d3a0d",
   "metadata": {},
   "outputs": [
    {
     "name": "stderr",
     "output_type": "stream",
     "text": [
      "C:\\Users\\User\\Oid85.FinMarket.JupyterNotebooks\\data_loader.py:19: UserWarning: pandas only supports SQLAlchemy connectable (engine/connection) or database string URI or sqlite3 DBAPI2 connection. Other DBAPI2 objects are not tested. Please consider using SQLAlchemy.\n",
      "  df = pd.read_sql(sql, con = connection)\n"
     ]
    }
   ],
   "source": [
    "df = data_loader.get_ltm()"
   ]
  },
  {
   "cell_type": "code",
   "execution_count": 5,
   "id": "bea8f08c-5ce1-4c78-bdf9-091ac51988cd",
   "metadata": {},
   "outputs": [
    {
     "data": {
      "text/html": [
       "<div>\n",
       "<style scoped>\n",
       "    .dataframe tbody tr th:only-of-type {\n",
       "        vertical-align: middle;\n",
       "    }\n",
       "\n",
       "    .dataframe tbody tr th {\n",
       "        vertical-align: top;\n",
       "    }\n",
       "\n",
       "    .dataframe thead th {\n",
       "        text-align: right;\n",
       "    }\n",
       "</style>\n",
       "<table border=\"1\" class=\"dataframe\">\n",
       "  <thead>\n",
       "    <tr style=\"text-align: right;\">\n",
       "      <th></th>\n",
       "      <th>IMOEX</th>\n",
       "      <th>SBER</th>\n",
       "      <th>LKOH</th>\n",
       "      <th>BSPB</th>\n",
       "      <th>MOEX</th>\n",
       "      <th>SNGSP</th>\n",
       "      <th>TATNP</th>\n",
       "    </tr>\n",
       "  </thead>\n",
       "  <tbody>\n",
       "    <tr>\n",
       "      <th>0</th>\n",
       "      <td>0.000000</td>\n",
       "      <td>0.000000</td>\n",
       "      <td>0.000000</td>\n",
       "      <td>0.000000</td>\n",
       "      <td>0.000000</td>\n",
       "      <td>0.000000</td>\n",
       "      <td>0.000000</td>\n",
       "    </tr>\n",
       "    <tr>\n",
       "      <th>1</th>\n",
       "      <td>0.544841</td>\n",
       "      <td>-0.402658</td>\n",
       "      <td>0.673350</td>\n",
       "      <td>3.468757</td>\n",
       "      <td>-0.325962</td>\n",
       "      <td>2.173913</td>\n",
       "      <td>0.360093</td>\n",
       "    </tr>\n",
       "    <tr>\n",
       "      <th>2</th>\n",
       "      <td>-0.972096</td>\n",
       "      <td>-6.043147</td>\n",
       "      <td>-2.409098</td>\n",
       "      <td>2.292706</td>\n",
       "      <td>-5.253739</td>\n",
       "      <td>0.527399</td>\n",
       "      <td>-4.045753</td>\n",
       "    </tr>\n",
       "    <tr>\n",
       "      <th>3</th>\n",
       "      <td>-2.575211</td>\n",
       "      <td>-3.781059</td>\n",
       "      <td>0.239413</td>\n",
       "      <td>1.033500</td>\n",
       "      <td>-4.755209</td>\n",
       "      <td>0.077180</td>\n",
       "      <td>-2.774836</td>\n",
       "    </tr>\n",
       "    <tr>\n",
       "      <th>4</th>\n",
       "      <td>-2.088514</td>\n",
       "      <td>-4.511081</td>\n",
       "      <td>1.376627</td>\n",
       "      <td>-0.629603</td>\n",
       "      <td>-7.132813</td>\n",
       "      <td>0.218678</td>\n",
       "      <td>-2.563016</td>\n",
       "    </tr>\n",
       "    <tr>\n",
       "      <th>...</th>\n",
       "      <td>...</td>\n",
       "      <td>...</td>\n",
       "      <td>...</td>\n",
       "      <td>...</td>\n",
       "      <td>...</td>\n",
       "      <td>...</td>\n",
       "      <td>...</td>\n",
       "    </tr>\n",
       "    <tr>\n",
       "      <th>772</th>\n",
       "      <td>-7.094967</td>\n",
       "      <td>8.022434</td>\n",
       "      <td>3.645618</td>\n",
       "      <td>36.759546</td>\n",
       "      <td>17.267912</td>\n",
       "      <td>-0.376583</td>\n",
       "      <td>-1.281690</td>\n",
       "    </tr>\n",
       "    <tr>\n",
       "      <th>773</th>\n",
       "      <td>-6.860705</td>\n",
       "      <td>7.199197</td>\n",
       "      <td>3.767052</td>\n",
       "      <td>NaN</td>\n",
       "      <td>15.867177</td>\n",
       "      <td>-1.641458</td>\n",
       "      <td>-1.727801</td>\n",
       "    </tr>\n",
       "    <tr>\n",
       "      <th>774</th>\n",
       "      <td>-1.463467</td>\n",
       "      <td>10.580417</td>\n",
       "      <td>8.298553</td>\n",
       "      <td>NaN</td>\n",
       "      <td>20.824008</td>\n",
       "      <td>-5.024510</td>\n",
       "      <td>2.313294</td>\n",
       "    </tr>\n",
       "    <tr>\n",
       "      <th>775</th>\n",
       "      <td>-2.244839</td>\n",
       "      <td>NaN</td>\n",
       "      <td>NaN</td>\n",
       "      <td>NaN</td>\n",
       "      <td>NaN</td>\n",
       "      <td>NaN</td>\n",
       "      <td>NaN</td>\n",
       "    </tr>\n",
       "    <tr>\n",
       "      <th>776</th>\n",
       "      <td>1.967909</td>\n",
       "      <td>NaN</td>\n",
       "      <td>NaN</td>\n",
       "      <td>NaN</td>\n",
       "      <td>NaN</td>\n",
       "      <td>NaN</td>\n",
       "      <td>NaN</td>\n",
       "    </tr>\n",
       "  </tbody>\n",
       "</table>\n",
       "<p>777 rows × 7 columns</p>\n",
       "</div>"
      ],
      "text/plain": [
       "        IMOEX       SBER      LKOH       BSPB       MOEX     SNGSP     TATNP\n",
       "0    0.000000   0.000000  0.000000   0.000000   0.000000  0.000000  0.000000\n",
       "1    0.544841  -0.402658  0.673350   3.468757  -0.325962  2.173913  0.360093\n",
       "2   -0.972096  -6.043147 -2.409098   2.292706  -5.253739  0.527399 -4.045753\n",
       "3   -2.575211  -3.781059  0.239413   1.033500  -4.755209  0.077180 -2.774836\n",
       "4   -2.088514  -4.511081  1.376627  -0.629603  -7.132813  0.218678 -2.563016\n",
       "..        ...        ...       ...        ...        ...       ...       ...\n",
       "772 -7.094967   8.022434  3.645618  36.759546  17.267912 -0.376583 -1.281690\n",
       "773 -6.860705   7.199197  3.767052        NaN  15.867177 -1.641458 -1.727801\n",
       "774 -1.463467  10.580417  8.298553        NaN  20.824008 -5.024510  2.313294\n",
       "775 -2.244839        NaN       NaN        NaN        NaN       NaN       NaN\n",
       "776  1.967909        NaN       NaN        NaN        NaN       NaN       NaN\n",
       "\n",
       "[777 rows x 7 columns]"
      ]
     },
     "execution_count": 5,
     "metadata": {},
     "output_type": "execute_result"
    }
   ],
   "source": [
    "df"
   ]
  },
  {
   "cell_type": "code",
   "execution_count": 15,
   "id": "253660c6-d769-4fe9-b269-fdf74be1bcbf",
   "metadata": {},
   "outputs": [
    {
     "data": {
      "image/png": "[encoded data removed]",
      "text/plain": [
       "<Figure size 1600x800 with 1 Axes>"
      ]
     },
     "metadata": {},
     "output_type": "display_data"
    }
   ],
   "source": [
    "plt.figure(figsize=(16, 8))\n",
    "df[\"IMOEX\"].plot.bar()\n",
    "plt.show()"
   ]
  }
 ],
 "metadata": {
  "kernelspec": {
   "display_name": "Python [conda env:base] *",
   "language": "python",
   "name": "conda-base-py"
  },
  "language_info": {
   "codemirror_mode": {
    "name": "ipython",
    "version": 3
   },
   "file_extension": ".py",
   "mimetype": "text/x-python",
   "name": "python",
   "nbconvert_exporter": "python",
   "pygments_lexer": "ipython3",
   "version": "3.12.7"
  }
 },
 "nbformat": 4,
 "nbformat_minor": 5
}
