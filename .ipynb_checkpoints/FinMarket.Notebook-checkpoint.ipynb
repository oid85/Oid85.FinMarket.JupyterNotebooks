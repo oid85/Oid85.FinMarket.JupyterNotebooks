{
 "cells": [
  {
   "cell_type": "code",
   "execution_count": 1,
   "id": "7765233b-c732-4fe1-9457-9a121e45c86e",
   "metadata": {
    "scrolled": true
   },
   "outputs": [
    {
     "name": "stdout",
     "output_type": "stream",
     "text": [
      "Requirement already satisfied: pandas in c:\\programdata\\anaconda3\\lib\\site-packages (2.2.2)\n",
      "Requirement already satisfied: numpy>=1.26.0 in c:\\programdata\\anaconda3\\lib\\site-packages (from pandas) (1.26.4)\n",
      "Requirement already satisfied: python-dateutil>=2.8.2 in c:\\programdata\\anaconda3\\lib\\site-packages (from pandas) (2.9.0.post0)\n",
      "Requirement already satisfied: pytz>=2020.1 in c:\\programdata\\anaconda3\\lib\\site-packages (from pandas) (2024.1)\n",
      "Requirement already satisfied: tzdata>=2022.7 in c:\\programdata\\anaconda3\\lib\\site-packages (from pandas) (2023.3)\n",
      "Requirement already satisfied: six>=1.5 in c:\\programdata\\anaconda3\\lib\\site-packages (from python-dateutil>=2.8.2->pandas) (1.16.0)\n"
     ]
    }
   ],
   "source": [
    "!pip install pandas"
   ]
  },
  {
   "cell_type": "code",
   "execution_count": 2,
   "id": "0d09ef23-7711-4afe-9453-f9e93848c8a2",
   "metadata": {},
   "outputs": [
    {
     "name": "stdout",
     "output_type": "stream",
     "text": [
      "Requirement already satisfied: psycopg2 in c:\\programdata\\anaconda3\\lib\\site-packages (2.9.10)\n"
     ]
    }
   ],
   "source": [
    "!pip install psycopg2"
   ]
  },
  {
   "cell_type": "code",
   "execution_count": 3,
   "id": "c303ddf6-c517-4ecb-b661-50586bfdbd8a",
   "metadata": {},
   "outputs": [],
   "source": [
    "import pandas as pd\n",
    "import psycopg2 as ps"
   ]
  },
  {
   "cell_type": "code",
   "execution_count": 4,
   "id": "65a12133-28d4-48a5-9170-03f3092f2c83",
   "metadata": {},
   "outputs": [],
   "source": [
    "connection = ps.connect(host=\"localhost\", port = 5432, database=\"finmarket_dev\", user=\"postgres\", password=\"postgres\")"
   ]
  },
  {
   "cell_type": "code",
   "execution_count": 12,
   "id": "5cc840b8-8b0f-4040-b5f3-5597ddd84cc2",
   "metadata": {},
   "outputs": [
    {
     "name": "stderr",
     "output_type": "stream",
     "text": [
      "C:\\Users\\User\\AppData\\Local\\Temp\\ipykernel_12452\\770623432.py:1: UserWarning: pandas only supports SQLAlchemy connectable (engine/connection) or database string URI or sqlite3 DBAPI2 connection. Other DBAPI2 objects are not tested. Please consider using SQLAlchemy.\n",
      "  df_shares = pd.read_sql(\"SELECT * FROM shares where last_price > 0.0\", con=connection)\n"
     ]
    },
    {
     "data": {
      "text/html": [
       "<div>\n",
       "<style scoped>\n",
       "    .dataframe tbody tr th:only-of-type {\n",
       "        vertical-align: middle;\n",
       "    }\n",
       "\n",
       "    .dataframe tbody tr th {\n",
       "        vertical-align: top;\n",
       "    }\n",
       "\n",
       "    .dataframe thead th {\n",
       "        text-align: right;\n",
       "    }\n",
       "</style>\n",
       "<table border=\"1\" class=\"dataframe\">\n",
       "  <thead>\n",
       "    <tr style=\"text-align: right;\">\n",
       "      <th></th>\n",
       "      <th>id</th>\n",
       "      <th>ticker</th>\n",
       "      <th>last_price</th>\n",
       "      <th>isin</th>\n",
       "      <th>figi</th>\n",
       "      <th>instrument_id</th>\n",
       "      <th>name</th>\n",
       "      <th>sector</th>\n",
       "      <th>created_at</th>\n",
       "      <th>updated_at</th>\n",
       "      <th>deleted_at</th>\n",
       "      <th>is_deleted</th>\n",
       "    </tr>\n",
       "  </thead>\n",
       "  <tbody>\n",
       "    <tr>\n",
       "      <th>0</th>\n",
       "      <td>f0a7dba5-75ab-42a9-88e9-1c95010f6710</td>\n",
       "      <td>SNGSP</td>\n",
       "      <td>58.19</td>\n",
       "      <td>RU0009029524</td>\n",
       "      <td>BBG004S681M2</td>\n",
       "      <td>a797f14a-8513-4b84-b15e-a3b98dc4cc00</td>\n",
       "      <td>Сургутнефтегаз - привилегированные акции</td>\n",
       "      <td>energy</td>\n",
       "      <td>2025-02-15 16:51:04.717681+00:00</td>\n",
       "      <td>2025-02-15 16:51:03.627962+00:00</td>\n",
       "      <td>0001-01-01 00:00:00+00:00</td>\n",
       "      <td>False</td>\n",
       "    </tr>\n",
       "    <tr>\n",
       "      <th>1</th>\n",
       "      <td>cb63d3d5-0482-4c8b-81d0-bc14ecb5c71e</td>\n",
       "      <td>TATNP</td>\n",
       "      <td>709.10</td>\n",
       "      <td>RU0006944147</td>\n",
       "      <td>BBG004S68829</td>\n",
       "      <td>efdb54d3-2f92-44da-b7a3-8849e96039f6</td>\n",
       "      <td>Татнефть - привилегированные акции</td>\n",
       "      <td>energy</td>\n",
       "      <td>2025-02-15 16:51:04.717330+00:00</td>\n",
       "      <td>2025-02-15 16:51:03.389908+00:00</td>\n",
       "      <td>0001-01-01 00:00:00+00:00</td>\n",
       "      <td>False</td>\n",
       "    </tr>\n",
       "    <tr>\n",
       "      <th>2</th>\n",
       "      <td>4724779c-9e88-4c9c-b980-375d23cb5245</td>\n",
       "      <td>SBER</td>\n",
       "      <td>313.35</td>\n",
       "      <td>RU0009029540</td>\n",
       "      <td>BBG004730N88</td>\n",
       "      <td>e6123145-9665-43e0-8413-cd61b8aa9b13</td>\n",
       "      <td>Сбер Банк</td>\n",
       "      <td>financial</td>\n",
       "      <td>2025-02-15 16:51:04.718058+00:00</td>\n",
       "      <td>2025-02-15 16:51:04.004498+00:00</td>\n",
       "      <td>0001-01-01 00:00:00+00:00</td>\n",
       "      <td>False</td>\n",
       "    </tr>\n",
       "    <tr>\n",
       "      <th>3</th>\n",
       "      <td>bfc0c382-8f71-4970-8313-672db9f4b6f5</td>\n",
       "      <td>BSPB</td>\n",
       "      <td>390.17</td>\n",
       "      <td>RU0009100945</td>\n",
       "      <td>BBG000QJW156</td>\n",
       "      <td>1e19953d-01c6-4ecd-a5f4-53ae3ed44029</td>\n",
       "      <td>Банк Санкт-Петербург</td>\n",
       "      <td>financial</td>\n",
       "      <td>2025-02-15 16:51:04.718148+00:00</td>\n",
       "      <td>2025-02-15 16:51:04.103163+00:00</td>\n",
       "      <td>0001-01-01 00:00:00+00:00</td>\n",
       "      <td>False</td>\n",
       "    </tr>\n",
       "    <tr>\n",
       "      <th>4</th>\n",
       "      <td>6856b16c-e7e1-4ab0-b3ef-cd1f4b6b882e</td>\n",
       "      <td>LKOH</td>\n",
       "      <td>7645.50</td>\n",
       "      <td>RU0009024277</td>\n",
       "      <td>BBG004731032</td>\n",
       "      <td>02cfdf61-6298-4c0f-a9ca-9cabc82afaf3</td>\n",
       "      <td>ЛУКОЙЛ</td>\n",
       "      <td>energy</td>\n",
       "      <td>2025-02-15 16:51:04.718462+00:00</td>\n",
       "      <td>2025-02-15 16:51:04.358983+00:00</td>\n",
       "      <td>0001-01-01 00:00:00+00:00</td>\n",
       "      <td>False</td>\n",
       "    </tr>\n",
       "    <tr>\n",
       "      <th>5</th>\n",
       "      <td>a112e3f9-18a4-47d5-8d2a-89d7e0bf51cb</td>\n",
       "      <td>MOEX</td>\n",
       "      <td>237.44</td>\n",
       "      <td>RU000A0JR4A1</td>\n",
       "      <td>BBG004730JJ5</td>\n",
       "      <td>5e1c2634-afc4-4e50-ad6d-f78fc14a539a</td>\n",
       "      <td>Московская Биржа</td>\n",
       "      <td>financial</td>\n",
       "      <td>2025-02-15 16:51:04.717743+00:00</td>\n",
       "      <td>2025-02-15 16:51:03.695821+00:00</td>\n",
       "      <td>0001-01-01 00:00:00+00:00</td>\n",
       "      <td>False</td>\n",
       "    </tr>\n",
       "  </tbody>\n",
       "</table>\n",
       "</div>"
      ],
      "text/plain": [
       "                                     id ticker  last_price          isin  \\\n",
       "0  f0a7dba5-75ab-42a9-88e9-1c95010f6710  SNGSP       58.19  RU0009029524   \n",
       "1  cb63d3d5-0482-4c8b-81d0-bc14ecb5c71e  TATNP      709.10  RU0006944147   \n",
       "2  4724779c-9e88-4c9c-b980-375d23cb5245   SBER      313.35  RU0009029540   \n",
       "3  bfc0c382-8f71-4970-8313-672db9f4b6f5   BSPB      390.17  RU0009100945   \n",
       "4  6856b16c-e7e1-4ab0-b3ef-cd1f4b6b882e   LKOH     7645.50  RU0009024277   \n",
       "5  a112e3f9-18a4-47d5-8d2a-89d7e0bf51cb   MOEX      237.44  RU000A0JR4A1   \n",
       "\n",
       "           figi                         instrument_id  \\\n",
       "0  BBG004S681M2  a797f14a-8513-4b84-b15e-a3b98dc4cc00   \n",
       "1  BBG004S68829  efdb54d3-2f92-44da-b7a3-8849e96039f6   \n",
       "2  BBG004730N88  e6123145-9665-43e0-8413-cd61b8aa9b13   \n",
       "3  BBG000QJW156  1e19953d-01c6-4ecd-a5f4-53ae3ed44029   \n",
       "4  BBG004731032  02cfdf61-6298-4c0f-a9ca-9cabc82afaf3   \n",
       "5  BBG004730JJ5  5e1c2634-afc4-4e50-ad6d-f78fc14a539a   \n",
       "\n",
       "                                       name     sector  \\\n",
       "0  Сургутнефтегаз - привилегированные акции     energy   \n",
       "1        Татнефть - привилегированные акции     energy   \n",
       "2                                 Сбер Банк  financial   \n",
       "3                      Банк Санкт-Петербург  financial   \n",
       "4                                    ЛУКОЙЛ     energy   \n",
       "5                          Московская Биржа  financial   \n",
       "\n",
       "                        created_at                       updated_at  \\\n",
       "0 2025-02-15 16:51:04.717681+00:00 2025-02-15 16:51:03.627962+00:00   \n",
       "1 2025-02-15 16:51:04.717330+00:00 2025-02-15 16:51:03.389908+00:00   \n",
       "2 2025-02-15 16:51:04.718058+00:00 2025-02-15 16:51:04.004498+00:00   \n",
       "3 2025-02-15 16:51:04.718148+00:00 2025-02-15 16:51:04.103163+00:00   \n",
       "4 2025-02-15 16:51:04.718462+00:00 2025-02-15 16:51:04.358983+00:00   \n",
       "5 2025-02-15 16:51:04.717743+00:00 2025-02-15 16:51:03.695821+00:00   \n",
       "\n",
       "                  deleted_at  is_deleted  \n",
       "0  0001-01-01 00:00:00+00:00       False  \n",
       "1  0001-01-01 00:00:00+00:00       False  \n",
       "2  0001-01-01 00:00:00+00:00       False  \n",
       "3  0001-01-01 00:00:00+00:00       False  \n",
       "4  0001-01-01 00:00:00+00:00       False  \n",
       "5  0001-01-01 00:00:00+00:00       False  "
      ]
     },
     "execution_count": 12,
     "metadata": {},
     "output_type": "execute_result"
    }
   ],
   "source": [
    "df_shares = pd.read_sql(\"SELECT * FROM shares where last_price > 0.0\", con=connection)\n",
    "df_shares"
   ]
  },
  {
   "cell_type": "code",
   "execution_count": null,
   "id": "14f66ea3-5590-4a73-990a-484fd017a97f",
   "metadata": {},
   "outputs": [],
   "source": []
  }
 ],
 "metadata": {
  "kernelspec": {
   "display_name": "Python [conda env:base] *",
   "language": "python",
   "name": "conda-base-py"
  },
  "language_info": {
   "codemirror_mode": {
    "name": "ipython",
    "version": 3
   },
   "file_extension": ".py",
   "mimetype": "text/x-python",
   "name": "python",
   "nbconvert_exporter": "python",
   "pygments_lexer": "ipython3",
   "version": "3.12.7"
  }
 },
 "nbformat": 4,
 "nbformat_minor": 5
}
